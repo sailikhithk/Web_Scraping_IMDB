{
  "nbformat": 4,
  "nbformat_minor": 0,
  "metadata": {
    "colab": {
      "name": "Web Scraping.ipynb",
      "provenance": []
    },
    "kernelspec": {
      "name": "python3",
      "display_name": "Python 3"
    }
  },
  "cells": [
    {
      "cell_type": "code",
      "metadata": {
        "id": "CCiod8kSvC7d",
        "colab_type": "code",
        "colab": {}
      },
      "source": [
        "#import the Beautiful Soup\n",
        "from bs4 import BeautifulSoup\n"
      ],
      "execution_count": 1,
      "outputs": []
    },
    {
      "cell_type": "code",
      "metadata": {
        "id": "PiH2keJNvdrH",
        "colab_type": "code",
        "colab": {}
      },
      "source": [
        "#import requests \n",
        "from requests import get\n"
      ],
      "execution_count": 2,
      "outputs": []
    },
    {
      "cell_type": "code",
      "metadata": {
        "id": "AxglmmnVvhxm",
        "colab_type": "code",
        "colab": {}
      },
      "source": [
        "#inorder to get webscraping we need to get the url and make a response of the URL\n",
        "url = 'http://www.imdb.com/search/title?release_date=2017&sort=num_votes,desc&page=1'\n",
        "response = get(url)\n"
      ],
      "execution_count": 3,
      "outputs": []
    },
    {
      "cell_type": "code",
      "metadata": {
        "id": "mTzOaQbjvjru",
        "colab_type": "code",
        "colab": {
          "base_uri": "https://localhost:8080/",
          "height": 34
        },
        "outputId": "087878b7-2054-4257-a46f-5486ecd3a1cb"
      },
      "source": [
        "#print(response.text[:500])\n",
        "\n",
        "#Make the html parser\n",
        "html_soup = BeautifulSoup(response.text, 'html.parser')\n",
        "type(html_soup)\n"
      ],
      "execution_count": 4,
      "outputs": [
        {
          "output_type": "execute_result",
          "data": {
            "text/plain": [
              "bs4.BeautifulSoup"
            ]
          },
          "metadata": {
            "tags": []
          },
          "execution_count": 4
        }
      ]
    },
    {
      "cell_type": "code",
      "metadata": {
        "id": "EDJ5ezY-vmDV",
        "colab_type": "code",
        "colab": {}
      },
      "source": [
        "#movie_containers\n",
        "movie_containers = html_soup.find_all('div', class_ = 'lister-item mode-advanced')\n"
      ],
      "execution_count": 5,
      "outputs": []
    },
    {
      "cell_type": "code",
      "metadata": {
        "id": "9rANmA55v-9t",
        "colab_type": "code",
        "colab": {}
      },
      "source": [
        "#first movie \n",
        "first_movie=movie_containers[1]"
      ],
      "execution_count": 6,
      "outputs": []
    },
    {
      "cell_type": "code",
      "metadata": {
        "id": "34l4D9-mwFPF",
        "colab_type": "code",
        "colab": {
          "base_uri": "https://localhost:8080/",
          "height": 101
        },
        "outputId": "8c4aa6bc-0c25-4b80-93ab-2ff98f8bb04f"
      },
      "source": [
        "#print the title of the movie\n",
        "print(first_movie.find('h3').text)"
      ],
      "execution_count": 7,
      "outputs": [
        {
          "output_type": "stream",
          "text": [
            "\n",
            "2.\n",
            "Thor: Ragnarok\n",
            "(2017)\n",
            "\n"
          ],
          "name": "stdout"
        }
      ]
    },
    {
      "cell_type": "code",
      "metadata": {
        "id": "wb8d601NwQp-",
        "colab_type": "code",
        "colab": {
          "base_uri": "https://localhost:8080/",
          "height": 34
        },
        "outputId": "6d6126c6-6315-44b4-9c35-a6d59da39f8c"
      },
      "source": [
        "#movie_rating\n",
        "print(first_movie.strong.text)"
      ],
      "execution_count": 9,
      "outputs": [
        {
          "output_type": "stream",
          "text": [
            "7.9\n"
          ],
          "name": "stdout"
        }
      ]
    },
    {
      "cell_type": "code",
      "metadata": {
        "id": "BmGMebyixWB0",
        "colab_type": "code",
        "colab": {
          "base_uri": "https://localhost:8080/",
          "height": 52
        },
        "outputId": "a98b4266-76e7-4e71-96ba-993082f19fe6"
      },
      "source": [
        "#span\n",
        "first_votes = first_movie.find('span', attrs = {'name':'nv'})\n",
        "fv=first_votes\n",
        "print(fv)\n",
        "fv['data-value']"
      ],
      "execution_count": 19,
      "outputs": [
        {
          "output_type": "stream",
          "text": [
            "<span data-value=\"558682\" name=\"nv\">558,682</span>\n"
          ],
          "name": "stdout"
        },
        {
          "output_type": "execute_result",
          "data": {
            "application/vnd.google.colaboratory.intrinsic": {
              "type": "string"
            },
            "text/plain": [
              "'558682'"
            ]
          },
          "metadata": {
            "tags": []
          },
          "execution_count": 19
        }
      ]
    },
    {
      "cell_type": "code",
      "metadata": {
        "id": "MqBEGUh_xlRX",
        "colab_type": "code",
        "colab": {}
      },
      "source": [
        "# Lists to store the scraped data in\n",
        "names = []\n",
        "years = []\n",
        "imdb_ratings = []\n",
        "metascores = []\n",
        "votes = []\n",
        "# Extract data from individual movie container\n",
        "for container in movie_containers:\n",
        "# If the movie has Metascore, then extract:\n",
        "    if container.find('div', class_ = 'ratings-metascore') is not None:\n",
        "# The name\n",
        "        name = container.h3.a.text\n",
        "        names.append(name)\n",
        "    # The year\n",
        "        year = container.h3.find('span', class_ = 'lister-item-year').text\n",
        "        years.append(year)\n",
        "    # The IMDB rating\n",
        "        imdb = float(container.strong.text)\n",
        "        imdb_ratings.append(imdb)\n",
        "    # The Metascore\n",
        "        m_score = container.find('span', class_ = 'metascore').text\n",
        "        metascores.append(int(m_score))\n",
        "    # The number of votes\n",
        "        vote = container.find('span', attrs = {'name':'nv'})['data-value']\n",
        "        votes.append(int(vote))"
      ],
      "execution_count": 21,
      "outputs": []
    },
    {
      "cell_type": "code",
      "metadata": {
        "id": "zPkQeWlp16kx",
        "colab_type": "code",
        "colab": {
          "base_uri": "https://localhost:8080/",
          "height": 54
        },
        "outputId": "2fa7af63-eedf-41be-ba88-bd62d62014f4"
      },
      "source": [
        "print(names)"
      ],
      "execution_count": 23,
      "outputs": [
        {
          "output_type": "stream",
          "text": [
            "['Logan', 'Thor: Ragnarok', 'Guardians of the Galaxy Vol. 2', 'Star Wars: Episode VIII - The Last Jedi', 'Wonder Woman', 'Dunkirk', 'Spider-Man: Homecoming', 'Get Out', 'It', 'Blade Runner 2049', 'Baby Driver', 'Three Billboards Outside Ebbing, Missouri', 'Justice League', 'The Shape of Water', 'John Wick: Chapter 2', 'Coco', 'Jumanji: Welcome to the Jungle', 'Beauty and the Beast', 'Kong: Skull Island', 'Kingsman: The Golden Circle', 'Pirates of the Caribbean: Dead Men Tell No Tales', 'Alien: Covenant', 'Lady Bird', 'The Greatest Showman', 'War for the Planet of the Apes', 'Murder on the Orient Express', 'Life', 'The Fate of the Furious', 'Call Me by Your Name', 'Wind River', 'Ghost in the Shell', 'King Arthur: Legend of the Sword', 'Mother!', \"The Hitman's Bodyguard\", 'I, Tonya', 'Atomic Blonde', 'The Mummy', 'Darkest Hour', 'Bright', 'Valerian and the City of a Thousand Planets', 'Baywatch', 'American Made']\n"
          ],
          "name": "stdout"
        }
      ]
    },
    {
      "cell_type": "code",
      "metadata": {
        "id": "uUmrnOIO6WEa",
        "colab_type": "code",
        "colab": {
          "base_uri": "https://localhost:8080/",
          "height": 1509
        },
        "outputId": "932fa8fd-413b-46c2-82dd-76b3638ac99e"
      },
      "source": [
        "#ipandas dataframe makes liives easier\n",
        "\n",
        "movie_ratings = pd.DataFrame({'movie': names,\n",
        "'year': years,\n",
        "'imdb': imdb_ratings,\n",
        "'metascore': metascores,\n",
        "'votes': votes\n",
        "})\n",
        "print(movie_ratings.info())\n",
        "movie_ratings"
      ],
      "execution_count": 35,
      "outputs": [
        {
          "output_type": "stream",
          "text": [
            "<class 'pandas.core.frame.DataFrame'>\n",
            "RangeIndex: 42 entries, 0 to 41\n",
            "Data columns (total 5 columns):\n",
            " #   Column     Non-Null Count  Dtype  \n",
            "---  ------     --------------  -----  \n",
            " 0   movie      42 non-null     object \n",
            " 1   year       42 non-null     object \n",
            " 2   imdb       42 non-null     float64\n",
            " 3   metascore  42 non-null     int64  \n",
            " 4   votes      42 non-null     int64  \n",
            "dtypes: float64(1), int64(2), object(2)\n",
            "memory usage: 1.8+ KB\n",
            "None\n"
          ],
          "name": "stdout"
        },
        {
          "output_type": "execute_result",
          "data": {
            "text/html": [
              "<div>\n",
              "<style scoped>\n",
              "    .dataframe tbody tr th:only-of-type {\n",
              "        vertical-align: middle;\n",
              "    }\n",
              "\n",
              "    .dataframe tbody tr th {\n",
              "        vertical-align: top;\n",
              "    }\n",
              "\n",
              "    .dataframe thead th {\n",
              "        text-align: right;\n",
              "    }\n",
              "</style>\n",
              "<table border=\"1\" class=\"dataframe\">\n",
              "  <thead>\n",
              "    <tr style=\"text-align: right;\">\n",
              "      <th></th>\n",
              "      <th>movie</th>\n",
              "      <th>year</th>\n",
              "      <th>imdb</th>\n",
              "      <th>metascore</th>\n",
              "      <th>votes</th>\n",
              "    </tr>\n",
              "  </thead>\n",
              "  <tbody>\n",
              "    <tr>\n",
              "      <th>0</th>\n",
              "      <td>Logan</td>\n",
              "      <td>(2017)</td>\n",
              "      <td>8.1</td>\n",
              "      <td>77</td>\n",
              "      <td>622129</td>\n",
              "    </tr>\n",
              "    <tr>\n",
              "      <th>1</th>\n",
              "      <td>Thor: Ragnarok</td>\n",
              "      <td>(2017)</td>\n",
              "      <td>7.9</td>\n",
              "      <td>74</td>\n",
              "      <td>558682</td>\n",
              "    </tr>\n",
              "    <tr>\n",
              "      <th>2</th>\n",
              "      <td>Guardians of the Galaxy Vol. 2</td>\n",
              "      <td>(2017)</td>\n",
              "      <td>7.6</td>\n",
              "      <td>67</td>\n",
              "      <td>545224</td>\n",
              "    </tr>\n",
              "    <tr>\n",
              "      <th>3</th>\n",
              "      <td>Star Wars: Episode VIII - The Last Jedi</td>\n",
              "      <td>(2017)</td>\n",
              "      <td>7.0</td>\n",
              "      <td>84</td>\n",
              "      <td>543989</td>\n",
              "    </tr>\n",
              "    <tr>\n",
              "      <th>4</th>\n",
              "      <td>Wonder Woman</td>\n",
              "      <td>(2017)</td>\n",
              "      <td>7.4</td>\n",
              "      <td>76</td>\n",
              "      <td>531863</td>\n",
              "    </tr>\n",
              "    <tr>\n",
              "      <th>5</th>\n",
              "      <td>Dunkirk</td>\n",
              "      <td>(2017)</td>\n",
              "      <td>7.9</td>\n",
              "      <td>94</td>\n",
              "      <td>524081</td>\n",
              "    </tr>\n",
              "    <tr>\n",
              "      <th>6</th>\n",
              "      <td>Spider-Man: Homecoming</td>\n",
              "      <td>(2017)</td>\n",
              "      <td>7.4</td>\n",
              "      <td>73</td>\n",
              "      <td>489576</td>\n",
              "    </tr>\n",
              "    <tr>\n",
              "      <th>7</th>\n",
              "      <td>Get Out</td>\n",
              "      <td>(I) (2017)</td>\n",
              "      <td>7.7</td>\n",
              "      <td>85</td>\n",
              "      <td>466537</td>\n",
              "    </tr>\n",
              "    <tr>\n",
              "      <th>8</th>\n",
              "      <td>It</td>\n",
              "      <td>(I) (2017)</td>\n",
              "      <td>7.3</td>\n",
              "      <td>69</td>\n",
              "      <td>438439</td>\n",
              "    </tr>\n",
              "    <tr>\n",
              "      <th>9</th>\n",
              "      <td>Blade Runner 2049</td>\n",
              "      <td>(2017)</td>\n",
              "      <td>8.0</td>\n",
              "      <td>81</td>\n",
              "      <td>435816</td>\n",
              "    </tr>\n",
              "    <tr>\n",
              "      <th>10</th>\n",
              "      <td>Baby Driver</td>\n",
              "      <td>(2017)</td>\n",
              "      <td>7.6</td>\n",
              "      <td>86</td>\n",
              "      <td>417162</td>\n",
              "    </tr>\n",
              "    <tr>\n",
              "      <th>11</th>\n",
              "      <td>Three Billboards Outside Ebbing, Missouri</td>\n",
              "      <td>(2017)</td>\n",
              "      <td>8.2</td>\n",
              "      <td>88</td>\n",
              "      <td>405254</td>\n",
              "    </tr>\n",
              "    <tr>\n",
              "      <th>12</th>\n",
              "      <td>Justice League</td>\n",
              "      <td>(2017)</td>\n",
              "      <td>6.4</td>\n",
              "      <td>45</td>\n",
              "      <td>367580</td>\n",
              "    </tr>\n",
              "    <tr>\n",
              "      <th>13</th>\n",
              "      <td>The Shape of Water</td>\n",
              "      <td>(2017)</td>\n",
              "      <td>7.3</td>\n",
              "      <td>87</td>\n",
              "      <td>354309</td>\n",
              "    </tr>\n",
              "    <tr>\n",
              "      <th>14</th>\n",
              "      <td>John Wick: Chapter 2</td>\n",
              "      <td>(2017)</td>\n",
              "      <td>7.5</td>\n",
              "      <td>75</td>\n",
              "      <td>348195</td>\n",
              "    </tr>\n",
              "    <tr>\n",
              "      <th>15</th>\n",
              "      <td>Coco</td>\n",
              "      <td>(I) (2017)</td>\n",
              "      <td>8.4</td>\n",
              "      <td>81</td>\n",
              "      <td>346315</td>\n",
              "    </tr>\n",
              "    <tr>\n",
              "      <th>16</th>\n",
              "      <td>Jumanji: Welcome to the Jungle</td>\n",
              "      <td>(2017)</td>\n",
              "      <td>6.9</td>\n",
              "      <td>58</td>\n",
              "      <td>305018</td>\n",
              "    </tr>\n",
              "    <tr>\n",
              "      <th>17</th>\n",
              "      <td>Beauty and the Beast</td>\n",
              "      <td>(I) (2017)</td>\n",
              "      <td>7.1</td>\n",
              "      <td>65</td>\n",
              "      <td>261759</td>\n",
              "    </tr>\n",
              "    <tr>\n",
              "      <th>18</th>\n",
              "      <td>Kong: Skull Island</td>\n",
              "      <td>(2017)</td>\n",
              "      <td>6.6</td>\n",
              "      <td>62</td>\n",
              "      <td>260145</td>\n",
              "    </tr>\n",
              "    <tr>\n",
              "      <th>19</th>\n",
              "      <td>Kingsman: The Golden Circle</td>\n",
              "      <td>(2017)</td>\n",
              "      <td>6.7</td>\n",
              "      <td>44</td>\n",
              "      <td>259447</td>\n",
              "    </tr>\n",
              "    <tr>\n",
              "      <th>20</th>\n",
              "      <td>Pirates of the Caribbean: Dead Men Tell No Tales</td>\n",
              "      <td>(2017)</td>\n",
              "      <td>6.6</td>\n",
              "      <td>39</td>\n",
              "      <td>252220</td>\n",
              "    </tr>\n",
              "    <tr>\n",
              "      <th>21</th>\n",
              "      <td>Alien: Covenant</td>\n",
              "      <td>(2017)</td>\n",
              "      <td>6.4</td>\n",
              "      <td>65</td>\n",
              "      <td>246256</td>\n",
              "    </tr>\n",
              "    <tr>\n",
              "      <th>22</th>\n",
              "      <td>Lady Bird</td>\n",
              "      <td>(2017)</td>\n",
              "      <td>7.4</td>\n",
              "      <td>94</td>\n",
              "      <td>224992</td>\n",
              "    </tr>\n",
              "    <tr>\n",
              "      <th>23</th>\n",
              "      <td>The Greatest Showman</td>\n",
              "      <td>(2017)</td>\n",
              "      <td>7.6</td>\n",
              "      <td>48</td>\n",
              "      <td>223062</td>\n",
              "    </tr>\n",
              "    <tr>\n",
              "      <th>24</th>\n",
              "      <td>War for the Planet of the Apes</td>\n",
              "      <td>(2017)</td>\n",
              "      <td>7.4</td>\n",
              "      <td>82</td>\n",
              "      <td>220410</td>\n",
              "    </tr>\n",
              "    <tr>\n",
              "      <th>25</th>\n",
              "      <td>Murder on the Orient Express</td>\n",
              "      <td>(2017)</td>\n",
              "      <td>6.5</td>\n",
              "      <td>52</td>\n",
              "      <td>200767</td>\n",
              "    </tr>\n",
              "    <tr>\n",
              "      <th>26</th>\n",
              "      <td>Life</td>\n",
              "      <td>(I) (2017)</td>\n",
              "      <td>6.6</td>\n",
              "      <td>54</td>\n",
              "      <td>200142</td>\n",
              "    </tr>\n",
              "    <tr>\n",
              "      <th>27</th>\n",
              "      <td>The Fate of the Furious</td>\n",
              "      <td>(2017)</td>\n",
              "      <td>6.7</td>\n",
              "      <td>56</td>\n",
              "      <td>197856</td>\n",
              "    </tr>\n",
              "    <tr>\n",
              "      <th>28</th>\n",
              "      <td>Call Me by Your Name</td>\n",
              "      <td>(2017)</td>\n",
              "      <td>7.9</td>\n",
              "      <td>93</td>\n",
              "      <td>196076</td>\n",
              "    </tr>\n",
              "    <tr>\n",
              "      <th>29</th>\n",
              "      <td>Wind River</td>\n",
              "      <td>(2017)</td>\n",
              "      <td>7.7</td>\n",
              "      <td>73</td>\n",
              "      <td>193425</td>\n",
              "    </tr>\n",
              "    <tr>\n",
              "      <th>30</th>\n",
              "      <td>Ghost in the Shell</td>\n",
              "      <td>(2017)</td>\n",
              "      <td>6.3</td>\n",
              "      <td>52</td>\n",
              "      <td>190459</td>\n",
              "    </tr>\n",
              "    <tr>\n",
              "      <th>31</th>\n",
              "      <td>King Arthur: Legend of the Sword</td>\n",
              "      <td>(2017)</td>\n",
              "      <td>6.7</td>\n",
              "      <td>41</td>\n",
              "      <td>185594</td>\n",
              "    </tr>\n",
              "    <tr>\n",
              "      <th>32</th>\n",
              "      <td>Mother!</td>\n",
              "      <td>(2017)</td>\n",
              "      <td>6.6</td>\n",
              "      <td>75</td>\n",
              "      <td>182472</td>\n",
              "    </tr>\n",
              "    <tr>\n",
              "      <th>33</th>\n",
              "      <td>The Hitman's Bodyguard</td>\n",
              "      <td>(2017)</td>\n",
              "      <td>6.9</td>\n",
              "      <td>47</td>\n",
              "      <td>179340</td>\n",
              "    </tr>\n",
              "    <tr>\n",
              "      <th>34</th>\n",
              "      <td>I, Tonya</td>\n",
              "      <td>(2017)</td>\n",
              "      <td>7.5</td>\n",
              "      <td>77</td>\n",
              "      <td>171105</td>\n",
              "    </tr>\n",
              "    <tr>\n",
              "      <th>35</th>\n",
              "      <td>Atomic Blonde</td>\n",
              "      <td>(2017)</td>\n",
              "      <td>6.7</td>\n",
              "      <td>63</td>\n",
              "      <td>168991</td>\n",
              "    </tr>\n",
              "    <tr>\n",
              "      <th>36</th>\n",
              "      <td>The Mummy</td>\n",
              "      <td>(2017)</td>\n",
              "      <td>5.4</td>\n",
              "      <td>34</td>\n",
              "      <td>167968</td>\n",
              "    </tr>\n",
              "    <tr>\n",
              "      <th>37</th>\n",
              "      <td>Darkest Hour</td>\n",
              "      <td>(2017)</td>\n",
              "      <td>7.4</td>\n",
              "      <td>75</td>\n",
              "      <td>163576</td>\n",
              "    </tr>\n",
              "    <tr>\n",
              "      <th>38</th>\n",
              "      <td>Bright</td>\n",
              "      <td>(I) (2017)</td>\n",
              "      <td>6.3</td>\n",
              "      <td>29</td>\n",
              "      <td>163205</td>\n",
              "    </tr>\n",
              "    <tr>\n",
              "      <th>39</th>\n",
              "      <td>Valerian and the City of a Thousand Planets</td>\n",
              "      <td>(2017)</td>\n",
              "      <td>6.5</td>\n",
              "      <td>51</td>\n",
              "      <td>156178</td>\n",
              "    </tr>\n",
              "    <tr>\n",
              "      <th>40</th>\n",
              "      <td>Baywatch</td>\n",
              "      <td>(2017)</td>\n",
              "      <td>5.5</td>\n",
              "      <td>37</td>\n",
              "      <td>154757</td>\n",
              "    </tr>\n",
              "    <tr>\n",
              "      <th>41</th>\n",
              "      <td>American Made</td>\n",
              "      <td>(2017)</td>\n",
              "      <td>7.2</td>\n",
              "      <td>65</td>\n",
              "      <td>151943</td>\n",
              "    </tr>\n",
              "  </tbody>\n",
              "</table>\n",
              "</div>"
            ],
            "text/plain": [
              "                                               movie  ...   votes\n",
              "0                                              Logan  ...  622129\n",
              "1                                     Thor: Ragnarok  ...  558682\n",
              "2                     Guardians of the Galaxy Vol. 2  ...  545224\n",
              "3            Star Wars: Episode VIII - The Last Jedi  ...  543989\n",
              "4                                       Wonder Woman  ...  531863\n",
              "5                                            Dunkirk  ...  524081\n",
              "6                             Spider-Man: Homecoming  ...  489576\n",
              "7                                            Get Out  ...  466537\n",
              "8                                                 It  ...  438439\n",
              "9                                  Blade Runner 2049  ...  435816\n",
              "10                                       Baby Driver  ...  417162\n",
              "11         Three Billboards Outside Ebbing, Missouri  ...  405254\n",
              "12                                    Justice League  ...  367580\n",
              "13                                The Shape of Water  ...  354309\n",
              "14                              John Wick: Chapter 2  ...  348195\n",
              "15                                              Coco  ...  346315\n",
              "16                    Jumanji: Welcome to the Jungle  ...  305018\n",
              "17                              Beauty and the Beast  ...  261759\n",
              "18                                Kong: Skull Island  ...  260145\n",
              "19                       Kingsman: The Golden Circle  ...  259447\n",
              "20  Pirates of the Caribbean: Dead Men Tell No Tales  ...  252220\n",
              "21                                   Alien: Covenant  ...  246256\n",
              "22                                         Lady Bird  ...  224992\n",
              "23                              The Greatest Showman  ...  223062\n",
              "24                    War for the Planet of the Apes  ...  220410\n",
              "25                      Murder on the Orient Express  ...  200767\n",
              "26                                              Life  ...  200142\n",
              "27                           The Fate of the Furious  ...  197856\n",
              "28                              Call Me by Your Name  ...  196076\n",
              "29                                        Wind River  ...  193425\n",
              "30                                Ghost in the Shell  ...  190459\n",
              "31                  King Arthur: Legend of the Sword  ...  185594\n",
              "32                                           Mother!  ...  182472\n",
              "33                            The Hitman's Bodyguard  ...  179340\n",
              "34                                          I, Tonya  ...  171105\n",
              "35                                     Atomic Blonde  ...  168991\n",
              "36                                         The Mummy  ...  167968\n",
              "37                                      Darkest Hour  ...  163576\n",
              "38                                            Bright  ...  163205\n",
              "39       Valerian and the City of a Thousand Planets  ...  156178\n",
              "40                                          Baywatch  ...  154757\n",
              "41                                     American Made  ...  151943\n",
              "\n",
              "[42 rows x 5 columns]"
            ]
          },
          "metadata": {
            "tags": []
          },
          "execution_count": 35
        }
      ]
    },
    {
      "cell_type": "code",
      "metadata": {
        "id": "GBowCDwE6Zar",
        "colab_type": "code",
        "colab": {
          "base_uri": "https://localhost:8080/",
          "height": 84
        },
        "outputId": "47e57d01-59bd-4ac8-bb7d-1ccee076c62f"
      },
      "source": [
        "movie_ratings['n_imdb'] = movie_ratings['imdb'] * 10\n",
        "print(movie_ratings.head(3))\n",
        "movie_ratings.to_csv('movie_ratings.csv')"
      ],
      "execution_count": 37,
      "outputs": [
        {
          "output_type": "stream",
          "text": [
            "                            movie    year  imdb  metascore   votes  n_imdb\n",
            "0                           Logan  (2017)   8.1         77  622129    81.0\n",
            "1                  Thor: Ragnarok  (2017)   7.9         74  558682    79.0\n",
            "2  Guardians of the Galaxy Vol. 2  (2017)   7.6         67  545224    76.0\n"
          ],
          "name": "stdout"
        }
      ]
    },
    {
      "cell_type": "code",
      "metadata": {
        "id": "0JPMJyhN6zz7",
        "colab_type": "code",
        "colab": {
          "base_uri": "https://localhost:8080/",
          "height": 298
        },
        "outputId": "775e178c-b608-4a64-a5fa-6c445effd4fc"
      },
      "source": [
        "import matplotlib.pyplot as plt\n",
        "\n",
        "fig, axes = plt.subplots(nrows = 1, ncols = 3, figsize = (16,4))\n",
        "ax1, ax2, ax3 = fig.axes\n",
        "ax1.hist(movie_ratings['imdb'], bins = 10, range = (0,10)) # bin range = 1\n",
        "ax1.set_title('IMDB rating')\n",
        "ax2.hist(movie_ratings['metascore'], bins = 10, range = (0,100)) # bin range = 10\n",
        "ax2.set_title('Metascore')\n",
        "ax3.hist(movie_ratings['n_imdb'], bins = 10, range = (0,100), histtype = 'step')\n",
        "ax3.hist(movie_ratings['metascore'], bins = 10, range = (0,100), histtype = 'step')\n",
        "ax3.legend(loc = 'upper left')\n",
        "ax3.set_title('The Two Normalized Distributions')\n",
        "for ax in fig.axes:\n",
        "    ax.spines['top'].set_visible(False)\n",
        "    ax.spines['right'].set_visible(False)\n",
        "plt.show()"
      ],
      "execution_count": 38,
      "outputs": [
        {
          "output_type": "stream",
          "text": [
            "No handles with labels found to put in legend.\n"
          ],
          "name": "stderr"
        },
        {
          "output_type": "display_data",
          "data": {
            "image/png": "[encoded data removed]",
            "text/plain": [
              "<Figure size 1152x288 with 3 Axes>"
            ]
          },
          "metadata": {
            "tags": [],
            "needs_background": "light"
          }
        }
      ]
    },
    {
      "cell_type": "code",
      "metadata": {
        "id": "k9Bk8muy7OmE",
        "colab_type": "code",
        "colab": {}
      },
      "source": [
        ""
      ],
      "execution_count": null,
      "outputs": []
    }
  ]
}